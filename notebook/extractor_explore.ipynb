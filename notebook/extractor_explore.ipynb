{
 "cells": [
  {
   "cell_type": "code",
   "execution_count": 1,
   "metadata": {},
   "outputs": [],
   "source": [
    "%load_ext autoreload\n",
    "%autoreload 2"
   ]
  },
  {
   "cell_type": "code",
   "execution_count": 2,
   "metadata": {},
   "outputs": [],
   "source": [
    "from transformers import BertTokenizer\n",
    "from iqradre.extract.data.dataset import IDCardAnnoDataset\n",
    "from iqradre.extract.data import utils\n",
    "from iqradre.extract.config import token as token_cfg\n",
    "from iqradre.extract.prod.prod import Extractor\n",
    "from sklearn.utils import shuffle"
   ]
  },
  {
   "cell_type": "code",
   "execution_count": 3,
   "metadata": {},
   "outputs": [],
   "source": [
    "tokenizer = BertTokenizer.from_pretrained(\"indobenchmark/indobert-base-p2\")"
   ]
  },
  {
   "cell_type": "code",
   "execution_count": 4,
   "metadata": {},
   "outputs": [
    {
     "name": "stdout",
     "output_type": "stream",
     "text": [
      "CPU times: user 1.11 s, sys: 137 ms, total: 1.25 s\n",
      "Wall time: 1.88 s\n"
     ]
    }
   ],
   "source": [
    "%%time\n",
    "path = '/data/idcard/combined/1606753021/'\n",
    "annoset = IDCardAnnoDataset(path, tokenizer)"
   ]
  },
  {
   "cell_type": "code",
   "execution_count": 5,
   "metadata": {},
   "outputs": [
    {
     "name": "stderr",
     "output_type": "stream",
     "text": [
      "Some weights of the model checkpoint at microsoft/layoutlm-base-uncased were not used when initializing LayoutLMForTokenClassification: ['cls.predictions.bias', 'cls.predictions.transform.dense.weight', 'cls.predictions.transform.dense.bias', 'cls.predictions.transform.LayerNorm.weight', 'cls.predictions.transform.LayerNorm.bias', 'cls.predictions.decoder.weight', 'cls.predictions.decoder.bias']\n",
      "- This IS expected if you are initializing LayoutLMForTokenClassification from the checkpoint of a model trained on another task or with another architecture (e.g. initializing a BertForSequenceClassification model from a BertForPreTraining model).\n",
      "- This IS NOT expected if you are initializing LayoutLMForTokenClassification from the checkpoint of a model that you expect to be exactly identical (initializing a BertForSequenceClassification model from a BertForSequenceClassification model).\n",
      "Some weights of LayoutLMForTokenClassification were not initialized from the model checkpoint at microsoft/layoutlm-base-uncased and are newly initialized: ['classifier.weight', 'classifier.bias']\n",
      "You should probably TRAIN this model on a down-stream task to be able to use it for predictions and inference.\n"
     ]
    },
    {
     "name": "stdout",
     "output_type": "stream",
     "text": [
      "CPU times: user 4.46 s, sys: 962 ms, total: 5.43 s\n",
      "Wall time: 6.83 s\n"
     ]
    }
   ],
   "source": [
    "%%time\n",
    "weight_path = '../weights/extract/layoutlm_v2_ktp_1606753021.pth'\n",
    "extract = Extractor(tokenizer=tokenizer, weight=weight_path)"
   ]
  },
  {
   "cell_type": "code",
   "execution_count": 6,
   "metadata": {},
   "outputs": [
    {
     "name": "stdout",
     "output_type": "stream",
     "text": [
      "CPU times: user 2.13 s, sys: 217 ms, total: 2.35 s\n",
      "Wall time: 367 ms\n"
     ]
    },
    {
     "data": {
      "text/plain": [
       "{'provinsi': 'JAWA TENGAH',\n",
       " 'kabupaten': 'KUDUS',\n",
       " 'nik': '3319012010813785',\n",
       " 'nama': 'TASYA MARISA',\n",
       " 'ttl': 'KALIWUNGU, 20-10-1981',\n",
       " 'gender': 'PEREMPUAN',\n",
       " 'goldar': 'O',\n",
       " 'alamat': 'PUS PERDAG SENEN BL I/132 LT 2',\n",
       " 'rtrw': '028/003',\n",
       " 'kelurahan': 'MIJEN',\n",
       " 'kecamatan': 'KALIWUNGU',\n",
       " 'agama': 'ISLAM',\n",
       " 'perkawinan': 'KAWIN',\n",
       " 'pekerjaan': 'PETANI/PEKEBUN',\n",
       " 'kewarganegaraan': 'WNI',\n",
       " 'berlaku': 'SEUMUR HIDUP',\n",
       " 'sign_place': 'KUDUS',\n",
       " 'sign_date': '22-10-2016'}"
      ]
     },
     "execution_count": 6,
     "metadata": {},
     "output_type": "execute_result"
    }
   ],
   "source": [
    "%%time\n",
    "extract.predict(annoset[10000])"
   ]
  },
  {
   "cell_type": "code",
   "execution_count": 8,
   "metadata": {},
   "outputs": [
    {
     "data": {
      "text/plain": [
       "[{'text': 'PROVINSI',\n",
       "  'bbox': [103.0, 302.0, 130.0, 434.0],\n",
       "  'label': 'FLD_PROV'},\n",
       " {'text': 'JAWA', 'bbox': [103.0, 442.0, 130.0, 519.0], 'label': 'VAL_PROV'},\n",
       " {'text': 'TENGAH', 'bbox': [103.0, 526.0, 130.0, 641.0], 'label': 'VAL_PROV'},\n",
       " {'text': 'KABUPATEN',\n",
       "  'bbox': [132.0, 328.0, 160.0, 496.0],\n",
       "  'label': 'FLD_KAB'},\n",
       " {'text': 'KENDAL', 'bbox': [132.0, 503.0, 160.0, 615.0], 'label': 'VAL_KAB'},\n",
       " {'text': 'NIK', 'bbox': [171.0, 34.0, 207.0, 103.0], 'label': 'FLD_NIK'},\n",
       " {'text': ':', 'bbox': [171.0, 209.0, 207.0, 232.0], 'label': 'O'},\n",
       " {'text': '3324032212022779',\n",
       "  'bbox': [171.0, 245.0, 207.0, 614.0],\n",
       "  'label': 'VAL_NIK'},\n",
       " {'text': 'Nama', 'bbox': [230.0, 34.0, 251.0, 91.0], 'label': 'FLD_NAMA'},\n",
       " {'text': ':', 'bbox': [230.0, 245.0, 251.0, 251.0], 'label': 'O'},\n",
       " {'text': 'WARTI', 'bbox': [230.0, 259.0, 251.0, 327.0], 'label': 'VAL_NAMA'},\n",
       " {'text': 'CICIK', 'bbox': [230.0, 333.0, 251.0, 390.0], 'label': 'VAL_NAMA'},\n",
       " {'text': 'Tempat/Tgl',\n",
       "  'bbox': [259.0, 34.0, 285.0, 140.0],\n",
       "  'label': 'FLD_TTL'},\n",
       " {'text': 'Lahir', 'bbox': [259.0, 146.0, 280.0, 194.0], 'label': 'FLD_TTL'},\n",
       " {'text': ':', 'bbox': [259.0, 245.0, 280.0, 251.0], 'label': 'O'},\n",
       " {'text': 'SUKOREJO,',\n",
       "  'bbox': [259.0, 259.0, 283.0, 382.0],\n",
       "  'label': 'VAL_TTL'},\n",
       " {'text': '22-12-2002',\n",
       "  'bbox': [259.0, 387.0, 280.0, 498.0],\n",
       "  'label': 'VAL_TTL'},\n",
       " {'text': 'Jenis', 'bbox': [289.0, 34.0, 309.0, 84.0], 'label': 'FLD_GDR'},\n",
       " {'text': 'Kelamin', 'bbox': [289.0, 90.0, 309.0, 166.0], 'label': 'FLD_GDR'},\n",
       " {'text': ':', 'bbox': [289.0, 245.0, 309.0, 251.0], 'label': 'O'},\n",
       " {'text': 'PEREMPUAN',\n",
       "  'bbox': [289.0, 259.0, 309.0, 393.0],\n",
       "  'label': 'VAL_GDR'},\n",
       " {'text': 'Gol.', 'bbox': [289.0, 485.0, 309.0, 524.0], 'label': 'FLD_GLD'},\n",
       " {'text': 'Darah', 'bbox': [289.0, 529.0, 309.0, 588.0], 'label': 'FLD_GLD'},\n",
       " {'text': ':', 'bbox': [289.0, 591.0, 309.0, 596.0], 'label': 'O'},\n",
       " {'text': '-', 'bbox': [289.0, 595.0, 309.0, 603.0], 'label': 'VAL_GLD'},\n",
       " {'text': 'Alamat', 'bbox': [318.0, 34.0, 339.0, 101.0], 'label': 'FLD_ADR'},\n",
       " {'text': ':', 'bbox': [318.0, 245.0, 339.0, 251.0], 'label': 'O'},\n",
       " {'text': 'JL.', 'bbox': [318.0, 259.0, 339.0, 288.0], 'label': 'VAL_ADR'},\n",
       " {'text': '', 'bbox': [318.0, 293.0, 318.0, 293.0], 'label': 'VAL_ADR'},\n",
       " {'text': 'ARU', 'bbox': [318.0, 299.0, 339.0, 345.0], 'label': 'VAL_ADR'},\n",
       " {'text': 'LUBEG', 'bbox': [318.0, 350.0, 339.0, 422.0], 'label': 'VAL_ADR'},\n",
       " {'text': '26', 'bbox': [318.0, 428.0, 339.0, 452.0], 'label': 'VAL_ADR'},\n",
       " {'text': 'RT/RW', 'bbox': [347.0, 70.0, 368.0, 140.0], 'label': 'FLD_RTW'},\n",
       " {'text': ':', 'bbox': [347.0, 245.0, 368.0, 251.0], 'label': 'O'},\n",
       " {'text': '018/006', 'bbox': [347.0, 259.0, 368.0, 337.0], 'label': 'VAL_RTW'},\n",
       " {'text': 'Kel/Desa', 'bbox': [377.0, 70.0, 397.0, 157.0], 'label': 'FLD_KLH'},\n",
       " {'text': ':', 'bbox': [377.0, 245.0, 397.0, 251.0], 'label': 'O'},\n",
       " {'text': 'PESAREN', 'bbox': [377.0, 259.0, 397.0, 360.0], 'label': 'VAL_KLH'},\n",
       " {'text': 'Kecamatan',\n",
       "  'bbox': [406.0, 70.0, 427.0, 178.0],\n",
       "  'label': 'FLD_KCM'},\n",
       " {'text': ':', 'bbox': [406.0, 245.0, 427.0, 251.0], 'label': 'O'},\n",
       " {'text': 'SUKOREJO',\n",
       "  'bbox': [406.0, 259.0, 427.0, 376.0],\n",
       "  'label': 'VAL_KCM'},\n",
       " {'text': 'Agama', 'bbox': [435.0, 34.0, 461.0, 102.0], 'label': 'FLD_RLG'},\n",
       " {'text': ':', 'bbox': [435.0, 245.0, 456.0, 251.0], 'label': 'O'},\n",
       " {'text': 'ISLAM', 'bbox': [435.0, 259.0, 456.0, 322.0], 'label': 'VAL_RLG'},\n",
       " {'text': 'Status', 'bbox': [465.0, 34.0, 485.0, 93.0], 'label': 'FLD_KWN'},\n",
       " {'text': 'Perkawinan',\n",
       "  'bbox': [465.0, 99.0, 485.0, 211.0],\n",
       "  'label': 'FLD_KWN'},\n",
       " {'text': ':', 'bbox': [465.0, 245.0, 485.0, 251.0], 'label': 'O'},\n",
       " {'text': 'BELUM', 'bbox': [465.0, 259.0, 485.0, 332.0], 'label': 'VAL_KWN'},\n",
       " {'text': 'KAWIN', 'bbox': [465.0, 337.0, 485.0, 407.0], 'label': 'VAL_KWN'},\n",
       " {'text': 'Pekerjaan',\n",
       "  'bbox': [494.0, 34.0, 519.0, 130.0],\n",
       "  'label': 'FLD_KRJ'},\n",
       " {'text': ':', 'bbox': [494.0, 245.0, 515.0, 251.0], 'label': 'O'},\n",
       " {'text': 'MENGURUS',\n",
       "  'bbox': [494.0, 259.0, 515.0, 384.0],\n",
       "  'label': 'VAL_KRJ'},\n",
       " {'text': 'RUMAH', 'bbox': [494.0, 389.0, 515.0, 467.0], 'label': 'VAL_KRJ'},\n",
       " {'text': 'TANGGA', 'bbox': [494.0, 473.0, 515.0, 563.0], 'label': 'VAL_KRJ'},\n",
       " {'text': 'Kewarganegaraan',\n",
       "  'bbox': [523.0, 34.0, 549.0, 209.0],\n",
       "  'label': 'FLD_WRG'},\n",
       " {'text': ':', 'bbox': [523.0, 245.0, 544.0, 251.0], 'label': 'O'},\n",
       " {'text': 'WNI', 'bbox': [523.0, 259.0, 544.0, 301.0], 'label': 'VAL_WRG'},\n",
       " {'text': 'Berlaku', 'bbox': [553.0, 34.0, 573.0, 106.0], 'label': 'FLD_BLK'},\n",
       " {'text': 'Hingga', 'bbox': [553.0, 112.0, 578.0, 180.0], 'label': 'FLD_BLK'},\n",
       " {'text': ':', 'bbox': [553.0, 245.0, 573.0, 251.0], 'label': 'O'},\n",
       " {'text': 'SEUMUR', 'bbox': [553.0, 259.0, 573.0, 351.0], 'label': 'VAL_BLK'},\n",
       " {'text': 'HIDUP', 'bbox': [553.0, 357.0, 573.0, 423.0], 'label': 'VAL_BLK'},\n",
       " {'text': 'KENDAL', 'bbox': [475.0, 741.0, 492.0, 813.0], 'label': 'VAL_SGP'},\n",
       " {'text': '05-08-2010',\n",
       "  'bbox': [504.0, 731.0, 521.0, 823.0],\n",
       "  'label': 'VAL_SGD'}]"
      ]
     },
     "execution_count": 8,
     "metadata": {},
     "output_type": "execute_result"
    }
   ],
   "source": [
    "annoset[0]"
   ]
  },
  {
   "cell_type": "code",
   "execution_count": null,
   "metadata": {},
   "outputs": [],
   "source": []
  }
 ],
 "metadata": {
  "kernelspec": {
   "display_name": "Python 3",
   "language": "python",
   "name": "python3"
  },
  "language_info": {
   "codemirror_mode": {
    "name": "ipython",
    "version": 3
   },
   "file_extension": ".py",
   "mimetype": "text/x-python",
   "name": "python",
   "nbconvert_exporter": "python",
   "pygments_lexer": "ipython3",
   "version": "3.6.8"
  }
 },
 "nbformat": 4,
 "nbformat_minor": 4
}
